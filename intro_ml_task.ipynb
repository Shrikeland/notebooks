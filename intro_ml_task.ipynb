{
 "nbformat": 4,
 "nbformat_minor": 0,
 "metadata": {
  "colab": {
   "provenance": []
  },
  "kernelspec": {
   "name": "python3",
   "display_name": "Python 3 (ipykernel)",
   "language": "python"
  },
  "language_info": {
   "name": "python"
  }
 },
 "cells": [
  {
   "cell_type": "markdown",
   "source": [
    "# Задача классификации. Практика"
   ],
   "metadata": {
    "id": "IYnpItIdI6Q6"
   }
  },
  {
   "cell_type": "markdown",
   "source": [
    "В этом домашнем задании вы будете решать задачу классификации оттоковых клиентов телекома: для каждого клиента необходимо определить, перестанет он пользоваться услугами оператора в ближайшее время или нет."
   ],
   "metadata": {
    "id": "0-tRk6fdxmB-"
   }
  },
  {
   "cell_type": "code",
   "metadata": {
    "id": "DIjF1xlpwOMd",
    "ExecuteTime": {
     "end_time": "2024-11-26T20:38:07.771519Z",
     "start_time": "2024-11-26T20:38:06.408098Z"
    }
   },
   "source": [
    "import pandas as pd\n",
    "import numpy as np\n",
    "import sklearn\n",
    "\n",
    "df = pd.read_csv(\"https://raw.githubusercontent.com/evgpat/edu_stepik_first_step_in_nlp/main/datasets/telecom_churn.csv\")\n",
    "df.head()"
   ],
   "outputs": [
    {
     "name": "stdout",
     "output_type": "stream",
     "text": [
      "\n",
      "System:\n",
      "    python: 3.12.4 | packaged by Anaconda, Inc. | (main, Jun 18 2024, 15:03:56) [MSC v.1929 64 bit (AMD64)]\n",
      "executable: C:\\Users\\NOVASTORE\\anaconda3\\python.exe\n",
      "   machine: Windows-11-10.0.22631-SP0\n",
      "\n",
      "Python dependencies:\n",
      "      sklearn: 1.5.2\n",
      "          pip: 24.0\n",
      "   setuptools: 75.2.0\n",
      "        numpy: 1.26.4\n",
      "        scipy: 1.13.1\n",
      "       Cython: None\n",
      "       pandas: 2.2.3\n",
      "   matplotlib: 3.8.4\n",
      "       joblib: 1.4.2\n",
      "threadpoolctl: 3.5.0\n",
      "\n",
      "Built with OpenMP: True\n",
      "\n",
      "threadpoolctl info:\n",
      "       user_api: blas\n",
      "   internal_api: openblas\n",
      "    num_threads: 20\n",
      "         prefix: libopenblas\n",
      "       filepath: C:\\Users\\NOVASTORE\\AppData\\Roaming\\Python\\Python312\\site-packages\\numpy.libs\\libopenblas64__v0.3.23-293-gc2f4bdbb-gcc_10_3_0-2bde3a66a51006b2b53eb373ff767a3f.dll\n",
      "        version: 0.3.23.dev\n",
      "threading_layer: pthreads\n",
      "   architecture: Haswell\n",
      "\n",
      "       user_api: openmp\n",
      "   internal_api: openmp\n",
      "    num_threads: 20\n",
      "         prefix: vcomp\n",
      "       filepath: C:\\Users\\NOVASTORE\\anaconda3\\Lib\\site-packages\\sklearn\\.libs\\vcomp140.dll\n",
      "        version: None\n",
      "\n",
      "       user_api: blas\n",
      "   internal_api: mkl\n",
      "    num_threads: 12\n",
      "         prefix: mkl_rt\n",
      "       filepath: C:\\Users\\NOVASTORE\\anaconda3\\Library\\bin\\mkl_rt.2.dll\n",
      "        version: 2023.1-Product\n",
      "threading_layer: intel\n",
      "None\n"
     ]
    },
    {
     "data": {
      "text/plain": [
       "  State  Account length  Area code International plan Voice mail plan  \\\n",
       "0    KS             128        415                 No             Yes   \n",
       "1    OH             107        415                 No             Yes   \n",
       "2    NJ             137        415                 No              No   \n",
       "3    OH              84        408                Yes              No   \n",
       "4    OK              75        415                Yes              No   \n",
       "\n",
       "   Number vmail messages  Total day minutes  Total day calls  \\\n",
       "0                     25              265.1              110   \n",
       "1                     26              161.6              123   \n",
       "2                      0              243.4              114   \n",
       "3                      0              299.4               71   \n",
       "4                      0              166.7              113   \n",
       "\n",
       "   Total day charge  Total eve minutes  Total eve calls  Total eve charge  \\\n",
       "0             45.07              197.4               99             16.78   \n",
       "1             27.47              195.5              103             16.62   \n",
       "2             41.38              121.2              110             10.30   \n",
       "3             50.90               61.9               88              5.26   \n",
       "4             28.34              148.3              122             12.61   \n",
       "\n",
       "   Total night minutes  Total night calls  Total night charge  \\\n",
       "0                244.7                 91               11.01   \n",
       "1                254.4                103               11.45   \n",
       "2                162.6                104                7.32   \n",
       "3                196.9                 89                8.86   \n",
       "4                186.9                121                8.41   \n",
       "\n",
       "   Total intl minutes  Total intl calls  Total intl charge  \\\n",
       "0                10.0                 3               2.70   \n",
       "1                13.7                 3               3.70   \n",
       "2                12.2                 5               3.29   \n",
       "3                 6.6                 7               1.78   \n",
       "4                10.1                 3               2.73   \n",
       "\n",
       "   Customer service calls  Churn  \n",
       "0                       1  False  \n",
       "1                       1  False  \n",
       "2                       0  False  \n",
       "3                       2  False  \n",
       "4                       3  False  "
      ],
      "text/html": [
       "<div>\n",
       "<style scoped>\n",
       "    .dataframe tbody tr th:only-of-type {\n",
       "        vertical-align: middle;\n",
       "    }\n",
       "\n",
       "    .dataframe tbody tr th {\n",
       "        vertical-align: top;\n",
       "    }\n",
       "\n",
       "    .dataframe thead th {\n",
       "        text-align: right;\n",
       "    }\n",
       "</style>\n",
       "<table border=\"1\" class=\"dataframe\">\n",
       "  <thead>\n",
       "    <tr style=\"text-align: right;\">\n",
       "      <th></th>\n",
       "      <th>State</th>\n",
       "      <th>Account length</th>\n",
       "      <th>Area code</th>\n",
       "      <th>International plan</th>\n",
       "      <th>Voice mail plan</th>\n",
       "      <th>Number vmail messages</th>\n",
       "      <th>Total day minutes</th>\n",
       "      <th>Total day calls</th>\n",
       "      <th>Total day charge</th>\n",
       "      <th>Total eve minutes</th>\n",
       "      <th>Total eve calls</th>\n",
       "      <th>Total eve charge</th>\n",
       "      <th>Total night minutes</th>\n",
       "      <th>Total night calls</th>\n",
       "      <th>Total night charge</th>\n",
       "      <th>Total intl minutes</th>\n",
       "      <th>Total intl calls</th>\n",
       "      <th>Total intl charge</th>\n",
       "      <th>Customer service calls</th>\n",
       "      <th>Churn</th>\n",
       "    </tr>\n",
       "  </thead>\n",
       "  <tbody>\n",
       "    <tr>\n",
       "      <th>0</th>\n",
       "      <td>KS</td>\n",
       "      <td>128</td>\n",
       "      <td>415</td>\n",
       "      <td>No</td>\n",
       "      <td>Yes</td>\n",
       "      <td>25</td>\n",
       "      <td>265.1</td>\n",
       "      <td>110</td>\n",
       "      <td>45.07</td>\n",
       "      <td>197.4</td>\n",
       "      <td>99</td>\n",
       "      <td>16.78</td>\n",
       "      <td>244.7</td>\n",
       "      <td>91</td>\n",
       "      <td>11.01</td>\n",
       "      <td>10.0</td>\n",
       "      <td>3</td>\n",
       "      <td>2.70</td>\n",
       "      <td>1</td>\n",
       "      <td>False</td>\n",
       "    </tr>\n",
       "    <tr>\n",
       "      <th>1</th>\n",
       "      <td>OH</td>\n",
       "      <td>107</td>\n",
       "      <td>415</td>\n",
       "      <td>No</td>\n",
       "      <td>Yes</td>\n",
       "      <td>26</td>\n",
       "      <td>161.6</td>\n",
       "      <td>123</td>\n",
       "      <td>27.47</td>\n",
       "      <td>195.5</td>\n",
       "      <td>103</td>\n",
       "      <td>16.62</td>\n",
       "      <td>254.4</td>\n",
       "      <td>103</td>\n",
       "      <td>11.45</td>\n",
       "      <td>13.7</td>\n",
       "      <td>3</td>\n",
       "      <td>3.70</td>\n",
       "      <td>1</td>\n",
       "      <td>False</td>\n",
       "    </tr>\n",
       "    <tr>\n",
       "      <th>2</th>\n",
       "      <td>NJ</td>\n",
       "      <td>137</td>\n",
       "      <td>415</td>\n",
       "      <td>No</td>\n",
       "      <td>No</td>\n",
       "      <td>0</td>\n",
       "      <td>243.4</td>\n",
       "      <td>114</td>\n",
       "      <td>41.38</td>\n",
       "      <td>121.2</td>\n",
       "      <td>110</td>\n",
       "      <td>10.30</td>\n",
       "      <td>162.6</td>\n",
       "      <td>104</td>\n",
       "      <td>7.32</td>\n",
       "      <td>12.2</td>\n",
       "      <td>5</td>\n",
       "      <td>3.29</td>\n",
       "      <td>0</td>\n",
       "      <td>False</td>\n",
       "    </tr>\n",
       "    <tr>\n",
       "      <th>3</th>\n",
       "      <td>OH</td>\n",
       "      <td>84</td>\n",
       "      <td>408</td>\n",
       "      <td>Yes</td>\n",
       "      <td>No</td>\n",
       "      <td>0</td>\n",
       "      <td>299.4</td>\n",
       "      <td>71</td>\n",
       "      <td>50.90</td>\n",
       "      <td>61.9</td>\n",
       "      <td>88</td>\n",
       "      <td>5.26</td>\n",
       "      <td>196.9</td>\n",
       "      <td>89</td>\n",
       "      <td>8.86</td>\n",
       "      <td>6.6</td>\n",
       "      <td>7</td>\n",
       "      <td>1.78</td>\n",
       "      <td>2</td>\n",
       "      <td>False</td>\n",
       "    </tr>\n",
       "    <tr>\n",
       "      <th>4</th>\n",
       "      <td>OK</td>\n",
       "      <td>75</td>\n",
       "      <td>415</td>\n",
       "      <td>Yes</td>\n",
       "      <td>No</td>\n",
       "      <td>0</td>\n",
       "      <td>166.7</td>\n",
       "      <td>113</td>\n",
       "      <td>28.34</td>\n",
       "      <td>148.3</td>\n",
       "      <td>122</td>\n",
       "      <td>12.61</td>\n",
       "      <td>186.9</td>\n",
       "      <td>121</td>\n",
       "      <td>8.41</td>\n",
       "      <td>10.1</td>\n",
       "      <td>3</td>\n",
       "      <td>2.73</td>\n",
       "      <td>3</td>\n",
       "      <td>False</td>\n",
       "    </tr>\n",
       "  </tbody>\n",
       "</table>\n",
       "</div>"
      ]
     },
     "execution_count": 1,
     "metadata": {},
     "output_type": "execute_result"
    }
   ],
   "execution_count": 1
  },
  {
   "cell_type": "markdown",
   "source": [
    "Сделаем первичную обработку данных:\n",
    "\n",
    "1) Выбросите колонку State\n",
    "\n",
    "**Вопрос:** сколько столбцов осталось в матрице df?"
   ],
   "metadata": {
    "id": "MT5L6lWZyDkE"
   }
  },
  {
   "cell_type": "code",
   "source": "df.drop(['State'], axis=1).head()",
   "metadata": {
    "id": "OwBZKnk3b8qc",
    "ExecuteTime": {
     "end_time": "2024-11-26T20:38:18.658288Z",
     "start_time": "2024-11-26T20:38:18.648040Z"
    }
   },
   "outputs": [
    {
     "data": {
      "text/plain": [
       "   Account length  Area code International plan Voice mail plan  \\\n",
       "0             128        415                 No             Yes   \n",
       "1             107        415                 No             Yes   \n",
       "2             137        415                 No              No   \n",
       "3              84        408                Yes              No   \n",
       "4              75        415                Yes              No   \n",
       "\n",
       "   Number vmail messages  Total day minutes  Total day calls  \\\n",
       "0                     25              265.1              110   \n",
       "1                     26              161.6              123   \n",
       "2                      0              243.4              114   \n",
       "3                      0              299.4               71   \n",
       "4                      0              166.7              113   \n",
       "\n",
       "   Total day charge  Total eve minutes  Total eve calls  Total eve charge  \\\n",
       "0             45.07              197.4               99             16.78   \n",
       "1             27.47              195.5              103             16.62   \n",
       "2             41.38              121.2              110             10.30   \n",
       "3             50.90               61.9               88              5.26   \n",
       "4             28.34              148.3              122             12.61   \n",
       "\n",
       "   Total night minutes  Total night calls  Total night charge  \\\n",
       "0                244.7                 91               11.01   \n",
       "1                254.4                103               11.45   \n",
       "2                162.6                104                7.32   \n",
       "3                196.9                 89                8.86   \n",
       "4                186.9                121                8.41   \n",
       "\n",
       "   Total intl minutes  Total intl calls  Total intl charge  \\\n",
       "0                10.0                 3               2.70   \n",
       "1                13.7                 3               3.70   \n",
       "2                12.2                 5               3.29   \n",
       "3                 6.6                 7               1.78   \n",
       "4                10.1                 3               2.73   \n",
       "\n",
       "   Customer service calls  Churn  \n",
       "0                       1  False  \n",
       "1                       1  False  \n",
       "2                       0  False  \n",
       "3                       2  False  \n",
       "4                       3  False  "
      ],
      "text/html": [
       "<div>\n",
       "<style scoped>\n",
       "    .dataframe tbody tr th:only-of-type {\n",
       "        vertical-align: middle;\n",
       "    }\n",
       "\n",
       "    .dataframe tbody tr th {\n",
       "        vertical-align: top;\n",
       "    }\n",
       "\n",
       "    .dataframe thead th {\n",
       "        text-align: right;\n",
       "    }\n",
       "</style>\n",
       "<table border=\"1\" class=\"dataframe\">\n",
       "  <thead>\n",
       "    <tr style=\"text-align: right;\">\n",
       "      <th></th>\n",
       "      <th>Account length</th>\n",
       "      <th>Area code</th>\n",
       "      <th>International plan</th>\n",
       "      <th>Voice mail plan</th>\n",
       "      <th>Number vmail messages</th>\n",
       "      <th>Total day minutes</th>\n",
       "      <th>Total day calls</th>\n",
       "      <th>Total day charge</th>\n",
       "      <th>Total eve minutes</th>\n",
       "      <th>Total eve calls</th>\n",
       "      <th>Total eve charge</th>\n",
       "      <th>Total night minutes</th>\n",
       "      <th>Total night calls</th>\n",
       "      <th>Total night charge</th>\n",
       "      <th>Total intl minutes</th>\n",
       "      <th>Total intl calls</th>\n",
       "      <th>Total intl charge</th>\n",
       "      <th>Customer service calls</th>\n",
       "      <th>Churn</th>\n",
       "    </tr>\n",
       "  </thead>\n",
       "  <tbody>\n",
       "    <tr>\n",
       "      <th>0</th>\n",
       "      <td>128</td>\n",
       "      <td>415</td>\n",
       "      <td>No</td>\n",
       "      <td>Yes</td>\n",
       "      <td>25</td>\n",
       "      <td>265.1</td>\n",
       "      <td>110</td>\n",
       "      <td>45.07</td>\n",
       "      <td>197.4</td>\n",
       "      <td>99</td>\n",
       "      <td>16.78</td>\n",
       "      <td>244.7</td>\n",
       "      <td>91</td>\n",
       "      <td>11.01</td>\n",
       "      <td>10.0</td>\n",
       "      <td>3</td>\n",
       "      <td>2.70</td>\n",
       "      <td>1</td>\n",
       "      <td>False</td>\n",
       "    </tr>\n",
       "    <tr>\n",
       "      <th>1</th>\n",
       "      <td>107</td>\n",
       "      <td>415</td>\n",
       "      <td>No</td>\n",
       "      <td>Yes</td>\n",
       "      <td>26</td>\n",
       "      <td>161.6</td>\n",
       "      <td>123</td>\n",
       "      <td>27.47</td>\n",
       "      <td>195.5</td>\n",
       "      <td>103</td>\n",
       "      <td>16.62</td>\n",
       "      <td>254.4</td>\n",
       "      <td>103</td>\n",
       "      <td>11.45</td>\n",
       "      <td>13.7</td>\n",
       "      <td>3</td>\n",
       "      <td>3.70</td>\n",
       "      <td>1</td>\n",
       "      <td>False</td>\n",
       "    </tr>\n",
       "    <tr>\n",
       "      <th>2</th>\n",
       "      <td>137</td>\n",
       "      <td>415</td>\n",
       "      <td>No</td>\n",
       "      <td>No</td>\n",
       "      <td>0</td>\n",
       "      <td>243.4</td>\n",
       "      <td>114</td>\n",
       "      <td>41.38</td>\n",
       "      <td>121.2</td>\n",
       "      <td>110</td>\n",
       "      <td>10.30</td>\n",
       "      <td>162.6</td>\n",
       "      <td>104</td>\n",
       "      <td>7.32</td>\n",
       "      <td>12.2</td>\n",
       "      <td>5</td>\n",
       "      <td>3.29</td>\n",
       "      <td>0</td>\n",
       "      <td>False</td>\n",
       "    </tr>\n",
       "    <tr>\n",
       "      <th>3</th>\n",
       "      <td>84</td>\n",
       "      <td>408</td>\n",
       "      <td>Yes</td>\n",
       "      <td>No</td>\n",
       "      <td>0</td>\n",
       "      <td>299.4</td>\n",
       "      <td>71</td>\n",
       "      <td>50.90</td>\n",
       "      <td>61.9</td>\n",
       "      <td>88</td>\n",
       "      <td>5.26</td>\n",
       "      <td>196.9</td>\n",
       "      <td>89</td>\n",
       "      <td>8.86</td>\n",
       "      <td>6.6</td>\n",
       "      <td>7</td>\n",
       "      <td>1.78</td>\n",
       "      <td>2</td>\n",
       "      <td>False</td>\n",
       "    </tr>\n",
       "    <tr>\n",
       "      <th>4</th>\n",
       "      <td>75</td>\n",
       "      <td>415</td>\n",
       "      <td>Yes</td>\n",
       "      <td>No</td>\n",
       "      <td>0</td>\n",
       "      <td>166.7</td>\n",
       "      <td>113</td>\n",
       "      <td>28.34</td>\n",
       "      <td>148.3</td>\n",
       "      <td>122</td>\n",
       "      <td>12.61</td>\n",
       "      <td>186.9</td>\n",
       "      <td>121</td>\n",
       "      <td>8.41</td>\n",
       "      <td>10.1</td>\n",
       "      <td>3</td>\n",
       "      <td>2.73</td>\n",
       "      <td>3</td>\n",
       "      <td>False</td>\n",
       "    </tr>\n",
       "  </tbody>\n",
       "</table>\n",
       "</div>"
      ]
     },
     "execution_count": 2,
     "metadata": {},
     "output_type": "execute_result"
    }
   ],
   "execution_count": 2
  },
  {
   "cell_type": "markdown",
   "source": [
    "Сделаем простую кодировку признаков:\n",
    "\n",
    "2) Колонку International plan закодируем следующим образом: \"Yes\" замените на 1, а \"No\" на 0."
   ],
   "metadata": {
    "id": "WeIa5cC3b_oE"
   }
  },
  {
   "cell_type": "code",
   "source": [
    "df['International plan'] = df['International plan'].map({'Yes' : 1, 'No' : 0})"
   ],
   "metadata": {
    "id": "7U6J16EVx0iy",
    "ExecuteTime": {
     "end_time": "2024-11-26T20:38:20.947321Z",
     "start_time": "2024-11-26T20:38:20.943654Z"
    }
   },
   "outputs": [],
   "execution_count": 3
  },
  {
   "cell_type": "markdown",
   "source": "Аналогичным образом закодируйте столбец Voice mail plan.",
   "metadata": {
    "id": "-0ElX9hPcMGG"
   }
  },
  {
   "cell_type": "code",
   "source": "df['Voice mail plan'] = df['Voice mail plan'].map({'Yes' : 1, 'No' : 0})",
   "metadata": {
    "id": "d2LssBAScPqf",
    "ExecuteTime": {
     "end_time": "2024-11-26T20:38:22.162125Z",
     "start_time": "2024-11-26T20:38:22.158304Z"
    }
   },
   "outputs": [],
   "execution_count": 4
  },
  {
   "cell_type": "markdown",
   "source": [
    "3) Переведем целевую переменную (Churn) в числа: True в 1, а False в 0."
   ],
   "metadata": {
    "id": "10NLyF1VcTkW"
   }
  },
  {
   "cell_type": "code",
   "source": [
    "df['Churn'] = df['Churn'].astype(int)"
   ],
   "metadata": {
    "id": "klGMs0cCcV5Z",
    "ExecuteTime": {
     "end_time": "2024-11-26T20:38:23.550685Z",
     "start_time": "2024-11-26T20:38:23.547844Z"
    }
   },
   "outputs": [],
   "execution_count": 5
  },
  {
   "cell_type": "markdown",
   "source": [
    "Выведите на экран первые строки измененной таблицы, чтобы проверить, что все преобразования сработали."
   ],
   "metadata": {
    "id": "N2hAu7tmy0Ps"
   }
  },
  {
   "cell_type": "code",
   "source": "df.head(3)",
   "metadata": {
    "id": "lG9oOv0uydW8",
    "ExecuteTime": {
     "end_time": "2024-11-26T20:38:24.403799Z",
     "start_time": "2024-11-26T20:38:24.395065Z"
    }
   },
   "outputs": [
    {
     "data": {
      "text/plain": [
       "  State  Account length  Area code  International plan  Voice mail plan  \\\n",
       "0    KS             128        415                   0                1   \n",
       "1    OH             107        415                   0                1   \n",
       "2    NJ             137        415                   0                0   \n",
       "\n",
       "   Number vmail messages  Total day minutes  Total day calls  \\\n",
       "0                     25              265.1              110   \n",
       "1                     26              161.6              123   \n",
       "2                      0              243.4              114   \n",
       "\n",
       "   Total day charge  Total eve minutes  Total eve calls  Total eve charge  \\\n",
       "0             45.07              197.4               99             16.78   \n",
       "1             27.47              195.5              103             16.62   \n",
       "2             41.38              121.2              110             10.30   \n",
       "\n",
       "   Total night minutes  Total night calls  Total night charge  \\\n",
       "0                244.7                 91               11.01   \n",
       "1                254.4                103               11.45   \n",
       "2                162.6                104                7.32   \n",
       "\n",
       "   Total intl minutes  Total intl calls  Total intl charge  \\\n",
       "0                10.0                 3               2.70   \n",
       "1                13.7                 3               3.70   \n",
       "2                12.2                 5               3.29   \n",
       "\n",
       "   Customer service calls  Churn  \n",
       "0                       1      0  \n",
       "1                       1      0  \n",
       "2                       0      0  "
      ],
      "text/html": [
       "<div>\n",
       "<style scoped>\n",
       "    .dataframe tbody tr th:only-of-type {\n",
       "        vertical-align: middle;\n",
       "    }\n",
       "\n",
       "    .dataframe tbody tr th {\n",
       "        vertical-align: top;\n",
       "    }\n",
       "\n",
       "    .dataframe thead th {\n",
       "        text-align: right;\n",
       "    }\n",
       "</style>\n",
       "<table border=\"1\" class=\"dataframe\">\n",
       "  <thead>\n",
       "    <tr style=\"text-align: right;\">\n",
       "      <th></th>\n",
       "      <th>State</th>\n",
       "      <th>Account length</th>\n",
       "      <th>Area code</th>\n",
       "      <th>International plan</th>\n",
       "      <th>Voice mail plan</th>\n",
       "      <th>Number vmail messages</th>\n",
       "      <th>Total day minutes</th>\n",
       "      <th>Total day calls</th>\n",
       "      <th>Total day charge</th>\n",
       "      <th>Total eve minutes</th>\n",
       "      <th>Total eve calls</th>\n",
       "      <th>Total eve charge</th>\n",
       "      <th>Total night minutes</th>\n",
       "      <th>Total night calls</th>\n",
       "      <th>Total night charge</th>\n",
       "      <th>Total intl minutes</th>\n",
       "      <th>Total intl calls</th>\n",
       "      <th>Total intl charge</th>\n",
       "      <th>Customer service calls</th>\n",
       "      <th>Churn</th>\n",
       "    </tr>\n",
       "  </thead>\n",
       "  <tbody>\n",
       "    <tr>\n",
       "      <th>0</th>\n",
       "      <td>KS</td>\n",
       "      <td>128</td>\n",
       "      <td>415</td>\n",
       "      <td>0</td>\n",
       "      <td>1</td>\n",
       "      <td>25</td>\n",
       "      <td>265.1</td>\n",
       "      <td>110</td>\n",
       "      <td>45.07</td>\n",
       "      <td>197.4</td>\n",
       "      <td>99</td>\n",
       "      <td>16.78</td>\n",
       "      <td>244.7</td>\n",
       "      <td>91</td>\n",
       "      <td>11.01</td>\n",
       "      <td>10.0</td>\n",
       "      <td>3</td>\n",
       "      <td>2.70</td>\n",
       "      <td>1</td>\n",
       "      <td>0</td>\n",
       "    </tr>\n",
       "    <tr>\n",
       "      <th>1</th>\n",
       "      <td>OH</td>\n",
       "      <td>107</td>\n",
       "      <td>415</td>\n",
       "      <td>0</td>\n",
       "      <td>1</td>\n",
       "      <td>26</td>\n",
       "      <td>161.6</td>\n",
       "      <td>123</td>\n",
       "      <td>27.47</td>\n",
       "      <td>195.5</td>\n",
       "      <td>103</td>\n",
       "      <td>16.62</td>\n",
       "      <td>254.4</td>\n",
       "      <td>103</td>\n",
       "      <td>11.45</td>\n",
       "      <td>13.7</td>\n",
       "      <td>3</td>\n",
       "      <td>3.70</td>\n",
       "      <td>1</td>\n",
       "      <td>0</td>\n",
       "    </tr>\n",
       "    <tr>\n",
       "      <th>2</th>\n",
       "      <td>NJ</td>\n",
       "      <td>137</td>\n",
       "      <td>415</td>\n",
       "      <td>0</td>\n",
       "      <td>0</td>\n",
       "      <td>0</td>\n",
       "      <td>243.4</td>\n",
       "      <td>114</td>\n",
       "      <td>41.38</td>\n",
       "      <td>121.2</td>\n",
       "      <td>110</td>\n",
       "      <td>10.30</td>\n",
       "      <td>162.6</td>\n",
       "      <td>104</td>\n",
       "      <td>7.32</td>\n",
       "      <td>12.2</td>\n",
       "      <td>5</td>\n",
       "      <td>3.29</td>\n",
       "      <td>0</td>\n",
       "      <td>0</td>\n",
       "    </tr>\n",
       "  </tbody>\n",
       "</table>\n",
       "</div>"
      ]
     },
     "execution_count": 6,
     "metadata": {},
     "output_type": "execute_result"
    }
   ],
   "execution_count": 6
  },
  {
   "cell_type": "markdown",
   "source": [
    "Создайте матрицу объект-признак X и вектор с целевой переменной (Churn) y."
   ],
   "metadata": {
    "id": "6_y9azfEzBYd"
   }
  },
  {
   "cell_type": "code",
   "source": [
    "X = df.drop(['Churn'], axis=1)\n",
    "y = df['Churn']"
   ],
   "metadata": {
    "id": "Nd0nCW4eypLE",
    "ExecuteTime": {
     "end_time": "2024-11-26T20:38:26.138459Z",
     "start_time": "2024-11-26T20:38:26.134981Z"
    }
   },
   "outputs": [],
   "execution_count": 7
  },
  {
   "cell_type": "markdown",
   "source": [
    "Проверьте баланс классов целевой переменной. Является ли выборка сбалансированной?\n",
    "\n",
    "**Вопрос:** сколько объектов относятся к классу 1?"
   ],
   "metadata": {
    "id": "NEvkoGWw1hFL"
   }
  },
  {
   "cell_type": "code",
   "source": [
    "class_counts = y.value_counts()\n",
    "\n",
    "print(f\"Класс 0: {class_counts[0]}\")\n",
    "print(f\"Класс 1: {class_counts[1]}\")\n",
    "print(f\"Сбалансированность: {'Да' if abs(class_counts[0] - class_counts[1]) / len(y) < 0.1 else 'Нет'}\")"
   ],
   "metadata": {
    "id": "RpPcEOAm1keZ",
    "ExecuteTime": {
     "end_time": "2024-11-26T20:38:27.409437Z",
     "start_time": "2024-11-26T20:38:27.405695Z"
    }
   },
   "outputs": [
    {
     "name": "stdout",
     "output_type": "stream",
     "text": [
      "Класс 0: 2850\n",
      "Класс 1: 483\n",
      "Сбалансированность: Нет\n"
     ]
    }
   ],
   "execution_count": 8
  },
  {
   "cell_type": "markdown",
   "source": [
    "Разбейте данные на тренировочную и тестовую части, размер тестовой части - 30%."
   ],
   "metadata": {
    "id": "AYFme2HyzQxL"
   }
  },
  {
   "cell_type": "code",
   "source": [
    "from sklearn.model_selection import train_test_split\n",
    "\n",
    "X_train, X_test, y_train, y_test = train_test_split(X, y, test_size=0.3, random_state=42)\n",
    "\n",
    "non_numeric_cols = X.select_dtypes(include=['object']).columns\n",
    "print(f\"Текстовые столбцы: {non_numeric_cols}\")\n",
    "\n",
    "if len(non_numeric_cols) > 0:\n",
    "    X = pd.get_dummies(X, columns=non_numeric_cols, drop_first=True)\n",
    "\n",
    "X_train, X_test, y_train, y_test = train_test_split(X, y, test_size=0.3, random_state=42)\n",
    "\n",
    "print(X_train)\n",
    "print(f\"Размер обучающей выборки: {X_train.shape[0]} объектов\")\n",
    "print(f\"Размер тестовой выборки: {X_test.shape[0]} объектов\")"
   ],
   "metadata": {
    "id": "Cj13GmJlzQDS",
    "ExecuteTime": {
     "end_time": "2024-11-26T20:38:29.218776Z",
     "start_time": "2024-11-26T20:38:29.164076Z"
    }
   },
   "outputs": [
    {
     "name": "stdout",
     "output_type": "stream",
     "text": [
      "Текстовые столбцы: Index(['State'], dtype='object')\n",
      "      Account length  Area code  International plan  Voice mail plan  \\\n",
      "2016              80        510                   0                0   \n",
      "1362              63        510                   0                0   \n",
      "2670             116        510                   0                1   \n",
      "2210              71        415                   0                0   \n",
      "1846             120        510                   0                1   \n",
      "...              ...        ...                 ...              ...   \n",
      "1095             106        510                   0                0   \n",
      "1130             122        415                   0                0   \n",
      "1294              66        408                   0                0   \n",
      "860              169        415                   0                0   \n",
      "3174              36        408                   0                1   \n",
      "\n",
      "      Number vmail messages  Total day minutes  Total day calls  \\\n",
      "2016                      0              202.4              118   \n",
      "1362                      0              132.9              122   \n",
      "2670                     12              221.0              108   \n",
      "2210                      0              278.9              110   \n",
      "1846                     43              177.9              117   \n",
      "...                     ...                ...              ...   \n",
      "1095                      0              274.4              120   \n",
      "1130                      0               35.1               62   \n",
      "1294                      0               87.6               76   \n",
      "860                       0              179.2              111   \n",
      "3174                     43               29.9              123   \n",
      "\n",
      "      Total day charge  Total eve minutes  Total eve calls  ...  State_SD  \\\n",
      "2016             34.41              260.2               67  ...     False   \n",
      "1362             22.59               67.0               62  ...     False   \n",
      "2670             37.57              151.0              118  ...     False   \n",
      "2210             47.41              190.2               67  ...     False   \n",
      "1846             30.24              175.1               70  ...     False   \n",
      "...                ...                ...              ...  ...       ...   \n",
      "1095             46.65              198.6               82  ...     False   \n",
      "1130              5.97              180.8               89  ...     False   \n",
      "1294             14.89              262.0              111  ...     False   \n",
      "860              30.46              175.2              130  ...     False   \n",
      "3174              5.08              129.1              117  ...     False   \n",
      "\n",
      "      State_TN  State_TX  State_UT  State_VA  State_VT  State_WA  State_WI  \\\n",
      "2016     False     False     False     False     False     False     False   \n",
      "1362     False     False     False     False     False     False     False   \n",
      "2670     False     False     False     False     False     False     False   \n",
      "2210     False     False      True     False     False     False     False   \n",
      "1846     False     False     False     False     False     False     False   \n",
      "...        ...       ...       ...       ...       ...       ...       ...   \n",
      "1095     False     False     False     False     False     False     False   \n",
      "1130     False     False     False     False     False     False     False   \n",
      "1294     False     False     False     False     False     False     False   \n",
      "860      False     False     False     False     False     False     False   \n",
      "3174     False     False     False     False     False     False     False   \n",
      "\n",
      "      State_WV  State_WY  \n",
      "2016     False     False  \n",
      "1362      True     False  \n",
      "2670     False      True  \n",
      "2210     False     False  \n",
      "1846     False     False  \n",
      "...        ...       ...  \n",
      "1095     False     False  \n",
      "1130     False     False  \n",
      "1294     False     False  \n",
      "860      False     False  \n",
      "3174     False     False  \n",
      "\n",
      "[2333 rows x 68 columns]\n",
      "Размер обучающей выборки: 2333 объектов\n",
      "Размер тестовой выборки: 1000 объектов\n"
     ]
    }
   ],
   "execution_count": 9
  },
  {
   "cell_type": "markdown",
   "source": [
    "Для линейных моделей очень важно масштабирование признаков. Поэтому\n",
    "отмасштабируйте признаки при помощи StandardScaler, обучив метод на тренировочных данных и применив его и к трейну, и к тесту.\n",
    "\n",
    "Для восстановления DataFrame-ов из преобразованных объектов используйте код с занятия."
   ],
   "metadata": {
    "id": "GbuDWle1z2Uh"
   }
  },
  {
   "cell_type": "code",
   "source": [
    "from sklearn.preprocessing import StandardScaler\n",
    "\n",
    "scaler = StandardScaler()\n",
    "\n",
    "X_train_scaled = scaler.fit_transform(X_train)\n",
    "\n",
    "X_test_scaled = scaler.transform(X_test)\n",
    "\n",
    "X_train_scaled = pd.DataFrame(X_train_scaled, columns=X_train.columns, index=X_train.index)\n",
    "X_test_scaled = pd.DataFrame(X_test_scaled, columns=X_test.columns, index=X_test.index)\n",
    "\n",
    "print(\"Масштабированные тренировочные данные:\")\n",
    "print(X_train_scaled.head())\n",
    "\n",
    "print(\"\\nМасштабированные тестовые данные:\")\n",
    "print(X_test_scaled.head())"
   ],
   "metadata": {
    "id": "69H1fh7VzaZf",
    "ExecuteTime": {
     "end_time": "2024-11-26T20:38:34.423769Z",
     "start_time": "2024-11-26T20:38:34.406638Z"
    }
   },
   "outputs": [
    {
     "name": "stdout",
     "output_type": "stream",
     "text": [
      "Масштабированные тренировочные данные:\n",
      "      Account length  Area code  International plan  Voice mail plan  \\\n",
      "2016       -0.511937   1.740454           -0.324289        -0.612192   \n",
      "1362       -0.939002   1.740454           -0.324289        -0.612192   \n",
      "2670        0.392435   1.740454           -0.324289         1.633475   \n",
      "2210       -0.738030  -0.515843           -0.324289        -0.612192   \n",
      "1846        0.492921   1.740454           -0.324289         1.633475   \n",
      "\n",
      "      Number vmail messages  Total day minutes  Total day calls  \\\n",
      "2016              -0.585483           0.410716         0.873749   \n",
      "1362              -0.585483          -0.864713         1.074874   \n",
      "2670               0.289180           0.752053         0.370935   \n",
      "2210              -0.585483           1.814605         0.471498   \n",
      "1846               2.548723          -0.038896         0.823467   \n",
      "\n",
      "      Total day charge  Total eve minutes  Total eve calls  ...  State_SD  \\\n",
      "2016          0.410877           1.167102        -1.646317  ... -0.143387   \n",
      "1362         -0.865095          -2.639021        -1.895351  ... -0.143387   \n",
      "2670          0.752000          -0.984185         0.893834  ... -0.143387   \n",
      "2210          1.814230          -0.211928        -1.646317  ... -0.143387   \n",
      "1846         -0.039276          -0.509404        -1.496896  ... -0.143387   \n",
      "\n",
      "      State_TN  State_TX  State_UT  State_VA  State_VT  State_WA  State_WI  \\\n",
      "2016 -0.133747 -0.155383 -0.141823 -0.155383 -0.144936 -0.149495 -0.162471   \n",
      "1362 -0.133747 -0.155383 -0.141823 -0.155383 -0.144936 -0.149495 -0.162471   \n",
      "2670 -0.133747 -0.155383 -0.141823 -0.155383 -0.144936 -0.149495 -0.162471   \n",
      "2210 -0.133747 -0.155383  7.051056 -0.155383 -0.144936 -0.149495 -0.162471   \n",
      "1846 -0.133747 -0.155383 -0.141823 -0.155383 -0.144936 -0.149495 -0.162471   \n",
      "\n",
      "      State_WV  State_WY  \n",
      "2016 -0.174577 -0.156824  \n",
      "1362  5.728141 -0.156824  \n",
      "2670 -0.174577  6.376575  \n",
      "2210 -0.174577 -0.156824  \n",
      "1846 -0.174577 -0.156824  \n",
      "\n",
      "[5 rows x 68 columns]\n",
      "\n",
      "Масштабированные тестовые данные:\n",
      "      Account length  Area code  International plan  Voice mail plan  \\\n",
      "438         0.317071   1.740454           -0.324289        -0.612192   \n",
      "2674       -0.838516  -0.515843           -0.324289        -0.612192   \n",
      "1345       -0.059751  -0.515843           -0.324289        -0.612192   \n",
      "1957        1.171201  -0.682096           -0.324289        -0.612192   \n",
      "2148       -0.109994  -0.682096           -0.324289        -0.612192   \n",
      "\n",
      "      Number vmail messages  Total day minutes  Total day calls  \\\n",
      "438               -0.585483          -0.459145        -0.383285   \n",
      "2674              -0.585483          -1.301479         0.823467   \n",
      "1345              -0.585483          -3.303627        -5.059450   \n",
      "1957              -0.585483           0.601571        -1.087224   \n",
      "2148              -0.585483          -0.661012         0.069247   \n",
      "\n",
      "      Total day charge  Total eve minutes  Total eve calls  ...  State_SD  \\\n",
      "438          -0.459202           2.554012         0.296151  ... -0.143387   \n",
      "2674         -1.301214           0.323924         1.192675  ... -0.143387   \n",
      "1345         -3.303691          -0.814761         1.491516  ...  6.974116   \n",
      "1957          0.601949           0.061908        -0.450952  ... -0.143387   \n",
      "2148         -0.661069           0.467737        -1.347475  ... -0.143387   \n",
      "\n",
      "      State_TN  State_TX  State_UT  State_VA  State_VT  State_WA  State_WI  \\\n",
      "438  -0.133747 -0.155383 -0.141823 -0.155383 -0.144936 -0.149495 -0.162471   \n",
      "2674 -0.133747 -0.155383 -0.141823 -0.155383 -0.144936 -0.149495 -0.162471   \n",
      "1345 -0.133747 -0.155383 -0.141823 -0.155383 -0.144936 -0.149495 -0.162471   \n",
      "1957 -0.133747 -0.155383 -0.141823 -0.155383 -0.144936 -0.149495 -0.162471   \n",
      "2148 -0.133747 -0.155383 -0.141823 -0.155383 -0.144936 -0.149495 -0.162471   \n",
      "\n",
      "      State_WV  State_WY  \n",
      "438  -0.174577  6.376575  \n",
      "2674 -0.174577 -0.156824  \n",
      "1345 -0.174577 -0.156824  \n",
      "1957 -0.174577 -0.156824  \n",
      "2148 -0.174577  6.376575  \n",
      "\n",
      "[5 rows x 68 columns]\n"
     ]
    }
   ],
   "execution_count": 10
  },
  {
   "cell_type": "markdown",
   "source": [
    "Обучите на тренировочных данных с параметрами по умолчанию:\n",
    "\n",
    "1) Логистическую регрессию\n",
    "\n",
    "2) Метод ближайших соседей"
   ],
   "metadata": {
    "id": "253CDINX1TmR"
   }
  },
  {
   "cell_type": "code",
   "source": [
    "from sklearn.linear_model import LogisticRegression\n",
    "from sklearn.neighbors import KNeighborsClassifier\n",
    "\n",
    "logreg = LogisticRegression() \n",
    "logreg.fit(X_train_scaled, y_train)\n",
    "\n",
    "knn = KNeighborsClassifier()\n",
    "knn.fit(X_train_scaled, y_train)\n",
    "\n",
    "print(\"Коэффициенты логистической регрессии:\")\n",
    "print(logreg.coef_)"
   ],
   "metadata": {
    "id": "GsQW48lf1SxJ",
    "ExecuteTime": {
     "end_time": "2024-11-26T20:38:41.549588Z",
     "start_time": "2024-11-26T20:38:41.483849Z"
    }
   },
   "outputs": [
    {
     "name": "stdout",
     "output_type": "stream",
     "text": [
      "Параметры KNN: {'algorithm': 'auto', 'leaf_size': 30, 'metric': 'minkowski', 'metric_params': None, 'n_jobs': None, 'n_neighbors': 5, 'p': 2, 'weights': 'uniform'}\n",
      "Коэффициенты логистической регрессии:\n",
      "[[ 0.04029924  0.09158507  0.68161712 -0.6899064   0.27858296  0.32121458\n",
      "   0.00726091  0.32190687  0.19377297  0.02128695  0.19089397  0.08267318\n",
      "   0.00397136  0.07888602  0.13270669 -0.22893276  0.13981979  0.6731848\n",
      "  -0.08626001  0.1164831  -0.04795892  0.09126572 -0.03808869  0.05029963\n",
      "  -0.01547505 -0.01854982  0.02121478  0.06965129 -0.035409   -0.10696224\n",
      "   0.02413839 -0.09221128  0.06197911  0.07922366  0.07501357 -0.00367827\n",
      "   0.04247016  0.11204563  0.11648443  0.1202173   0.12781054 -0.01760113\n",
      "   0.09223562  0.20243674  0.07509067 -0.14816928  0.05538939  0.06177566\n",
      "   0.14968477 -0.00412758  0.11990075  0.13248981  0.04750726  0.0339693\n",
      "   0.10791389  0.10864536 -0.00321175  0.15003581 -0.00928785 -0.01271638\n",
      "   0.17705493  0.03383721 -0.05642231 -0.15052634  0.1231827  -0.04326277\n",
      "   0.02309756 -0.01204002]]\n"
     ]
    }
   ],
   "execution_count": 11
  },
  {
   "cell_type": "markdown",
   "source": [
    "С помощью обученных моделей сделайте предсказание на тестовых данных. Вычислите значение метрики roc-auc на тесте.\n",
    "\n",
    "Не забудьте, что для корректного вычисления roc-auc необходимо предсказывать не сами классы, а их вероятности.\n",
    "\n",
    "**Вопрос:** чему равен ROC-AUC логистической регрессии, округленный до десятых?"
   ],
   "metadata": {
    "id": "HZszTXSb110B"
   }
  },
  {
   "cell_type": "code",
   "source": [
    "from sklearn.metrics import roc_auc_score\n",
    "\n",
    "# Предсказание вероятностей классов на тестовых данных\n",
    "y_pred_proba_logreg = logreg.predict_proba(X_test_scaled)[:, 1]  # Вероятности класса 1\n",
    "y_pred_proba_knn = knn.predict_proba(X_test_scaled)[:, 1]  # Вероятности класса 1\n",
    "\n",
    "# Вычисление метрики ROC-AUC для логистической регрессии\n",
    "roc_auc_logreg = roc_auc_score(y_test, y_pred_proba_logreg)\n",
    "\n",
    "# Вычисление метрики ROC-AUC для метода ближайших соседей\n",
    "roc_auc_knn = roc_auc_score(y_test, y_pred_proba_knn)\n",
    "\n",
    "# Вывод результатов\n",
    "print(f\"ROC-AUC для логистической регрессии: {roc_auc_logreg:.1f}\")\n",
    "print(f\"ROC-AUC для метода ближайших соседей: {roc_auc_knn:.1f}\")"
   ],
   "metadata": {
    "id": "W9IUlgV011PP",
    "ExecuteTime": {
     "end_time": "2024-11-26T20:38:52.802912Z",
     "start_time": "2024-11-26T20:38:52.703888Z"
    }
   },
   "outputs": [
    {
     "name": "stdout",
     "output_type": "stream",
     "text": [
      "ROC-AUC для логистической регрессии: 0.8\n",
      "ROC-AUC для метода ближайших соседей: 0.7\n"
     ]
    }
   ],
   "execution_count": 12
  },
  {
   "cell_type": "markdown",
   "source": [
    "## Бонус. Подбор гиперпараметров модели.\n",
    "\n",
    "У моделей машинного обучения есть гиперпараметры - это величины, которые задает человек до начала обучения моделей. Подбор гиперпараметров может значительно влиять на качество моделей.\n",
    "\n",
    "Про эту тему можно посмотреть [на Stepik](https://stepik.org/lesson/806516/step/4?unit=809692).\n",
    "\n",
    "Теперь ваша цель - максимально улучшить модели. Для этого:\n",
    "\n",
    "1) у логистической регрессии подберите гиперпараметр С (переберите 20 значений C в диапазоне от 0.1 до 10 с равным шагом).\n",
    "\n",
    "2) у метода ближайших соседей подберите число соседей n_neighbors (ищите значение гиперпараметра в диапазоне от 1 до 20 с шагом 1).\n",
    "\n",
    "Подбор гиперпараметров осуществляется только по тренировочным данным!"
   ],
   "metadata": {
    "id": "Bof-nFO-3pp7"
   }
  },
  {
   "cell_type": "markdown",
   "source": [
    "После подбора гиперпараметров обучите модели с найденными гиперпараметрами на тренировочных данных, сделайте предсказания на тесте и оцените их качество (roc_auc)."
   ],
   "metadata": {
    "id": "fOpaM-hq44uW"
   }
  },
  {
   "cell_type": "code",
   "source": [
    "from sklearn.model_selection import GridSearchCV\n",
    "from sklearn.metrics import roc_auc_score\n",
    "from sklearn.linear_model import LogisticRegression\n",
    "from sklearn.neighbors import KNeighborsClassifier\n",
    "\n",
    "# 1) Подбор гиперпараметра для логистической регрессии\n",
    "logreg_param_grid = {'C': np.linspace(0.1, 10, 20)}  # Гиперпараметр C для логистической регрессии\n",
    "logreg_grid_search = GridSearchCV(LogisticRegression(), logreg_param_grid, cv=5, scoring='roc_auc', n_jobs=-1)\n",
    "logreg_grid_search.fit(X_train_scaled, y_train)\n",
    "\n",
    "# Лучший гиперпараметр для логистической регрессии\n",
    "best_logreg_C = logreg_grid_search.best_params_['C']\n",
    "print(f\"Лучший параметр C для логистической регрессии: {best_logreg_C}\")\n",
    "\n",
    "# Обучаем логистическую регрессию с найденным гиперпараметром\n",
    "logreg_best = LogisticRegression(C=best_logreg_C)\n",
    "logreg_best.fit(X_train_scaled, y_train)\n",
    "\n",
    "# Предсказания и ROC-AUC для логистической регрессии\n",
    "y_pred_proba_logreg_best = logreg_best.predict_proba(X_test_scaled)[:, 1]\n",
    "roc_auc_logreg_best = roc_auc_score(y_test, y_pred_proba_logreg_best)\n",
    "print(f\"ROC-AUC для логистической регрессии с лучшим гиперпараметром C: {roc_auc_logreg_best:.2f}\")\n",
    "\n",
    "# 2) Подбор гиперпараметра для метода ближайших соседей\n",
    "knn_param_grid = {'n_neighbors': range(1, 21)}  # Гиперпараметр n_neighbors для KNN\n",
    "knn_grid_search = GridSearchCV(KNeighborsClassifier(), knn_param_grid, cv=5, scoring='roc_auc', n_jobs=-1)\n",
    "knn_grid_search.fit(X_train_scaled, y_train)\n",
    "\n",
    "# Лучший гиперпараметр для KNN\n",
    "best_knn_neighbors = knn_grid_search.best_params_['n_neighbors']\n",
    "print(f\"Лучшее количество соседей для KNN: {best_knn_neighbors}\")\n",
    "\n",
    "# Обучаем KNN с найденным гиперпараметром\n",
    "knn_best = KNeighborsClassifier(n_neighbors=best_knn_neighbors)\n",
    "knn_best.fit(X_train_scaled, y_train)\n",
    "\n",
    "# Предсказания и ROC-AUC для KNN\n",
    "y_pred_proba_knn_best = knn_best.predict_proba(X_test_scaled)[:, 1]\n",
    "roc_auc_knn_best = roc_auc_score(y_test, y_pred_proba_knn_best)\n",
    "print(f\"ROC-AUC для KNN с лучшим гиперпараметром n_neighbors: {roc_auc_knn_best:.2f}\")\n",
    "\n",
    "# Сравнение результатов\n",
    "if roc_auc_logreg_best > roc_auc_knn_best:\n",
    "    print(\"Логистическая регрессия показала лучший результат по ROC-AUC.\")\n",
    "else:\n",
    "    print(\"Метод ближайших соседей показал лучший результат по ROC-AUC.\")"
   ],
   "metadata": {
    "id": "hk9rxc993bRu",
    "ExecuteTime": {
     "end_time": "2024-11-26T20:41:42.287369Z",
     "start_time": "2024-11-26T20:41:39.284207Z"
    }
   },
   "outputs": [
    {
     "name": "stdout",
     "output_type": "stream",
     "text": [
      "Лучший параметр C для логистической регрессии: 0.1\n",
      "ROC-AUC для логистической регрессии с лучшим гиперпараметром C: 0.82\n",
      "Лучшее количество соседей для KNN: 8\n",
      "ROC-AUC для KNN с лучшим гиперпараметром n_neighbors: 0.69\n",
      "Логистическая регрессия показала лучший результат по ROC-AUC.\n"
     ]
    }
   ],
   "execution_count": 13
  },
  {
   "cell_type": "markdown",
   "source": [
    "Какая модель справилась с решением задачи лучше всего по метрике roc_auc?"
   ],
   "metadata": {
    "id": "LJdQGP5B6UuT"
   }
  },
  {
   "cell_type": "markdown",
   "source": [
    "Нарисуйте roc-кривую для наилучшей модели."
   ],
   "metadata": {
    "id": "9QqqeHyP6Y4o"
   }
  },
  {
   "cell_type": "code",
   "source": [
    "import matplotlib.pyplot as plt\n",
    "from sklearn.metrics import roc_curve, auc\n",
    "\n",
    "# Выбор модели с наилучшей метрикой ROC-AUC\n",
    "if roc_auc_logreg_best > roc_auc_knn_best:\n",
    "    best_model = logreg_best\n",
    "    y_pred_proba_best = y_pred_proba_logreg_best\n",
    "    model_name = 'Логистическая регрессия'\n",
    "else:\n",
    "    best_model = knn_best\n",
    "    y_pred_proba_best = y_pred_proba_knn_best\n",
    "    model_name = 'KNN'\n",
    "\n",
    "# Вычисление ROC-кривой\n",
    "fpr, tpr, thresholds = roc_curve(y_test, y_pred_proba_best)\n",
    "\n",
    "# Вычисление площади под кривой (AUC)\n",
    "roc_auc = auc(fpr, tpr)\n",
    "\n",
    "# Построение графика ROC-кривой\n",
    "plt.figure(figsize=(8, 6))\n",
    "plt.plot(fpr, tpr, color='blue', lw=2, label=f'ROC-кривая (AUC = {roc_auc:.2f})')\n",
    "plt.plot([0, 1], [0, 1], color='gray', lw=2, linestyle='--')  # Линия случайной модели\n",
    "plt.xlim([0.0, 1.0])\n",
    "plt.ylim([0.0, 1.05])\n",
    "plt.xlabel('Ложный положительный показатель (FPR)')\n",
    "plt.ylabel('Истинный положительный показатель (TPR)')\n",
    "plt.title(f'ROC-кривая для модели {model_name}')\n",
    "plt.legend(loc='lower right')\n",
    "plt.grid(True)\n",
    "plt.show()\n"
   ],
   "metadata": {
    "id": "xzrjnbQB6YMA",
    "ExecuteTime": {
     "end_time": "2024-11-26T20:42:32.564329Z",
     "start_time": "2024-11-26T20:42:31.780121Z"
    }
   },
   "outputs": [
    {
     "data": {
      "text/plain": [
       "<Figure size 800x600 with 1 Axes>"
      ],
      "image/png": "[encoded data removed]"
     },
     "metadata": {},
     "output_type": "display_data"
    }
   ],
   "execution_count": 14
  },
  {
   "cell_type": "markdown",
   "source": [
    "Сравните между собой две лучшие модели:\n",
    "\n",
    "1) насколько сильно отличается качество предсказания на тестовых данных?\n",
    "(вычислите разность значений roc-auc на тестовых данных)\n",
    "\n",
    "2) постройте гистограмму важности признаков для логистической регрессии. Какие три признака наиболее важны для модели?"
   ],
   "metadata": {
    "id": "mKaWSPa_6vvk"
   }
  },
  {
   "cell_type": "code",
   "source": [
    "import matplotlib.pyplot as plt\n",
    "import numpy as np\n",
    "\n",
    "# 1) Сравнение качества предсказания на тестовых данных\n",
    "roc_auc_diff = abs(roc_auc_logreg_best - roc_auc_knn_best)\n",
    "print(f\"Разность в ROC-AUC между логистической регрессией и KNN на тестовых данных: {roc_auc_diff:.3f}\")\n",
    "\n",
    "# 2) Построение гистограммы важности признаков для логистической регрессии\n",
    "# Важность признаков для логистической регрессии - это абсолютные значения коэффициентов\n",
    "importance_logreg = np.abs(logreg_best.coef_[0])\n",
    "\n",
    "# Получаем имена признаков\n",
    "feature_names = X_train_scaled.columns\n",
    "\n",
    "# Создаем DataFrame для удобства сортировки\n",
    "importance_df = pd.DataFrame({\n",
    "    'Feature': feature_names,\n",
    "    'Importance': importance_logreg\n",
    "})\n",
    "\n",
    "# Сортируем по убыванию важности\n",
    "importance_df = importance_df.sort_values(by='Importance', ascending=False)\n",
    "\n",
    "# Построение гистограммы\n",
    "plt.figure(figsize=(10, 6))\n",
    "plt.barh(importance_df['Feature'][:10], importance_df['Importance'][:10], color='skyblue')\n",
    "plt.xlabel('Важность признаков')\n",
    "plt.title('Гистограмма важности признаков для логистической регрессии')\n",
    "plt.gca().invert_yaxis()  # Для отображения наиболее важных признаков сверху\n",
    "plt.show()\n",
    "\n",
    "# Три наиболее важных признака\n",
    "top_3_features = importance_df.head(3)\n",
    "print(\"Три наиболее важных признака для модели логистической регрессии:\")\n",
    "print(top_3_features[['Feature', 'Importance']])\n"
   ],
   "metadata": {
    "id": "cc0q1_XL7QT0",
    "ExecuteTime": {
     "end_time": "2024-11-26T20:43:06.368607Z",
     "start_time": "2024-11-26T20:43:06.271279Z"
    }
   },
   "outputs": [
    {
     "name": "stdout",
     "output_type": "stream",
     "text": [
      "Разность в ROC-AUC между логистической регрессией и KNN на тестовых данных: 0.130\n"
     ]
    },
    {
     "data": {
      "text/plain": [
       "<Figure size 1000x600 with 1 Axes>"
      ],
      "image/png": "[encoded data removed]"
     },
     "metadata": {},
     "output_type": "display_data"
    },
    {
     "name": "stdout",
     "output_type": "stream",
     "text": [
      "Три наиболее важных признака для модели логистической регрессии:\n",
      "                   Feature  Importance\n",
      "2       International plan    0.652195\n",
      "17  Customer service calls    0.641291\n",
      "3          Voice mail plan    0.392462\n"
     ]
    }
   ],
   "execution_count": 15
  },
  {
   "cell_type": "markdown",
   "source": [
    "Так можно строить гистограмму"
   ],
   "metadata": {
    "id": "ZgRif5m1jISs"
   }
  },
  {
   "cell_type": "code",
   "source": [
    "import matplotlib.pyplot as plt\n",
    "import numpy as np\n",
    "\n",
    "# Получаем признаки и их важность из модели логистической регрессии\n",
    "features = X_train_scaled.columns\n",
    "importances = np.abs(logreg_best.coef_[0])  # Используем модель с наилучшим гиперпараметром\n",
    "indices = np.argsort(importances)  # Сортируем признаки по их важности\n",
    "\n",
    "# Построение гистограммы\n",
    "plt.figure(figsize=(10, 6))\n",
    "plt.title('Feature Importances of Logistic Regression')\n",
    "plt.barh(range(len(indices)), importances[indices], color='skyblue', align='center')\n",
    "plt.yticks(range(len(indices)), [features[i] for i in indices])\n",
    "plt.xlabel('Relative Importance')\n",
    "plt.gca().invert_yaxis()  # Чтобы наиболее важные признаки были сверху\n",
    "plt.show()\n",
    "\n",
    "# Три наиболее важных признака\n",
    "top_3_features = features[indices[:3]]\n",
    "print(\"Три наиболее важных признака для модели логистической регрессии:\")\n",
    "for feature in top_3_features:\n",
    "    print(feature)"
   ],
   "metadata": {
    "id": "lz_y6FjJ7Kol",
    "ExecuteTime": {
     "end_time": "2024-11-26T20:44:15.629426Z",
     "start_time": "2024-11-26T20:44:15.357524Z"
    }
   },
   "outputs": [
    {
     "data": {
      "text/plain": [
       "<Figure size 1000x600 with 1 Axes>"
      ],
      "image/png": "[encoded data removed]"
     },
     "metadata": {},
     "output_type": "display_data"
    },
    {
     "name": "stdout",
     "output_type": "stream",
     "text": [
      "Три наиболее важных признака для модели логистической регрессии:\n",
      "State_FL\n",
      "Total night calls\n",
      "Number vmail messages\n"
     ]
    }
   ],
   "execution_count": 17
  },
  {
   "cell_type": "markdown",
   "source": [
    "Сделайте выводы:\n",
    "\n",
    "1) Являются ли данные сбалансированными? Что это означает?\n",
    "\n",
    "2) Какая модель после подбора гиперпараметров лучше всего решает задачу с точки зрения метрики roc-auc?"
   ],
   "metadata": {
    "id": "beRXM0lT8MUp"
   }
  }
 ]
}
